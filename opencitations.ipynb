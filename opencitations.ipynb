{
 "cells": [
  {
   "cell_type": "code",
   "execution_count": 2,
   "metadata": {},
   "outputs": [],
   "source": [
    "from collections import Counter, defaultdict\n",
    "import urllib\n",
    "from copy import deepcopy\n",
    "import uuid\n",
    "import csv\n",
    "import json\n",
    "from utils import chunks, write_payloads, VERSION, IDENTITY, CITES"
   ]
  },
  {
   "cell_type": "code",
   "execution_count": 3,
   "metadata": {},
   "outputs": [
    {
     "name": "stdout",
     "output_type": "stream",
     "text": [
      "1800000\n"
     ]
    }
   ],
   "source": [
    "with open('identifiers.csv', 'r') as csvfile:\n",
    "    identifiers = list(csv.reader(csvfile, delimiter=','))\n",
    "print(len(identifiers))"
   ]
  },
  {
   "cell_type": "code",
   "execution_count": 4,
   "metadata": {},
   "outputs": [],
   "source": [
    "ids_dict = {}\n",
    "for id_, value, scheme in identifiers:\n",
    "    id_num = int(id_.split('https://w3id.org/oc/corpus/br/')[1])\n",
    "    if id_num not in ids_dict:\n",
    "        ids_dict[id_num] = []\n",
    "    ids_dict[id_num].append((value, scheme))"
   ]
  },
  {
   "cell_type": "code",
   "execution_count": 5,
   "metadata": {},
   "outputs": [
    {
     "data": {
      "text/plain": [
       "[('http://www.eurosurveillance.org/viewarticle.aspx%3Farticleid', 'url'),\n",
       " ('http://www.eurosurveillance.org/viewarticle.aspx%3Farticleid', 'url'),\n",
       " ('10.2807/1560-7917.es2014.19.9.20720', 'doi'),\n",
       " ('http://dx.doi.org/10.2807/1560-7917.es2014.19.9.20720', 'url'),\n",
       " ('24626205', 'pmid'),\n",
       " ('10.2807/1560-7917', 'doi'),\n",
       " ('http://dx.doi.org/10.2807/1560-7917', 'url')]"
      ]
     },
     "execution_count": 5,
     "metadata": {},
     "output_type": "execute_result"
    }
   ],
   "source": [
    "ids_dict[73676]"
   ]
  },
  {
   "cell_type": "code",
   "execution_count": 6,
   "metadata": {},
   "outputs": [],
   "source": [
    "doi_prefixes = [\n",
    "    'http://dx.doi.org',\n",
    "    'http://dx.doi.org',\n",
    "    'http://doi.org',\n",
    "    'http://www.dx.doi.org',\n",
    "    'http://www.doi.org',\n",
    "    'http://dx/doi.org',\n",
    "    'https://dx.doi.org',\n",
    "    'https://doi.org',\n",
    "    'https://dx.doi.org'\n",
    "]"
   ]
  },
  {
   "cell_type": "code",
   "execution_count": 7,
   "metadata": {},
   "outputs": [],
   "source": [
    "def doi_value_fixer(value):\n",
    "    if '%' in value:\n",
    "        value = urllib.parse.unquote(value)\n",
    "    value = value.strip()\n",
    "    if value.startswith('/'):\n",
    "        value = value[1:].strip()\n",
    "    while ' ' in value:\n",
    "        value = value.split(' ')[0]\n",
    "        value = value.strip()\n",
    "    if value[-2:] == ' (':\n",
    "        value = value[:-2]\n",
    "    if value[-1:] == '.':\n",
    "        value = value[:-1]\n",
    "    return value.strip()\n",
    "\n",
    "\n",
    "def url_value_fixer(value):\n",
    "    if '%' in value:\n",
    "        value = urllib.parse.unquote(value)\n",
    "    return value.strip()"
   ]
  },
  {
   "cell_type": "code",
   "execution_count": 8,
   "metadata": {},
   "outputs": [
    {
     "data": {
      "text/plain": [
       "'10.1148/radiology.212.3.r99au29711'"
      ]
     },
     "execution_count": 8,
     "metadata": {},
     "output_type": "execute_result"
    }
   ],
   "source": [
    "doi_value_fixer('/10.1148/radiology.212.3.r99au29711')"
   ]
  },
  {
   "cell_type": "code",
   "execution_count": 9,
   "metadata": {},
   "outputs": [],
   "source": [
    "fails = []  # Invalid DOI-values\n",
    "ids_clean = []  # Cleaned identifiers\n",
    "for id_, value, scheme in identifiers:\n",
    "    v_orig = value\n",
    "    id_num = int(id_.split('https://w3id.org/oc/corpus/br/')[1])\n",
    "    \n",
    "    # Check if Identifier value is one of the DOI urls. Change to just DOI instead\n",
    "    doi_pref = next((pref for pref in doi_prefixes if value.startswith(pref)), None)\n",
    "    if doi_pref:\n",
    "        value = value.split(doi_pref)[1]\n",
    "        scheme = 'doi'\n",
    "    if scheme == 'doi':\n",
    "        value = doi_value_fixer(value)\n",
    "    if scheme == 'url':\n",
    "        value = url_value_fixer(value)\n",
    "    if value:\n",
    "        ids_clean.append((id_num, value, scheme))\n",
    "    else:\n",
    "        fails.append(v_orig)"
   ]
  },
  {
   "cell_type": "code",
   "execution_count": 10,
   "metadata": {},
   "outputs": [
    {
     "data": {
      "text/plain": [
       "Counter({'http://dx.doi.org': 37105, 'http://www.dx.doi.org': 1})"
      ]
     },
     "execution_count": 10,
     "metadata": {},
     "output_type": "execute_result"
    }
   ],
   "source": [
    "Counter(fails)  # Discarded values"
   ]
  },
  {
   "cell_type": "code",
   "execution_count": 11,
   "metadata": {},
   "outputs": [],
   "source": [
    "ids_grouped = defaultdict(set)\n",
    "for id_, value, scheme in ids_clean:\n",
    "    ids_grouped[id_].add((value, scheme))"
   ]
  },
  {
   "cell_type": "code",
   "execution_count": 12,
   "metadata": {},
   "outputs": [],
   "source": [
    "double_dois = []\n",
    "for id_, ids in ids_grouped.items():\n",
    "    dups = [(v, s) for v, s in ids if s == 'doi']\n",
    "    if len(dups) == 2:\n",
    "        v1 = dups[0][0]\n",
    "        v2 = dups[1][0]\n",
    "        if v1 != v2:\n",
    "            double_dois.append((id_, ids))"
   ]
  },
  {
   "cell_type": "code",
   "execution_count": 14,
   "metadata": {},
   "outputs": [],
   "source": [
    "identity_relationships = []\n",
    "for id_, ids in ids_grouped.items():\n",
    "    ids = list(ids)\n",
    "    for idx in range(len(ids) - 1):\n",
    "        rel = deepcopy(IDENTITY)\n",
    "        val1, scheme1 = ids[idx]\n",
    "        val2, scheme2 = ids[idx + 1]\n",
    "        rel['Source']['Identifier'] = {\"ID\": val1, \"IDScheme\": scheme1}\n",
    "        rel['Target']['Identifier'] = {\"ID\": val2, \"IDScheme\": scheme2}\n",
    "        identity_relationships.append(rel)"
   ]
  },
  {
   "cell_type": "code",
   "execution_count": 15,
   "metadata": {},
   "outputs": [
    {
     "name": "stdout",
     "output_type": "stream",
     "text": [
      "535715\n",
      "541067\n"
     ]
    }
   ],
   "source": [
    "print(len(identity_relationships))\n",
    "print(len(ids_grouped))"
   ]
  },
  {
   "cell_type": "code",
   "execution_count": 16,
   "metadata": {},
   "outputs": [
    {
     "data": {
      "text/plain": [
       "Counter({1: 142387, 2: 262536, 3: 135300, 4: 810, 5: 29, 6: 3, 7: 1, 13: 1})"
      ]
     },
     "execution_count": 16,
     "metadata": {},
     "output_type": "execute_result"
    }
   ],
   "source": [
    "Counter(len(vals) for _, vals in ids_grouped.items())"
   ]
  },
  {
   "cell_type": "code",
   "execution_count": 18,
   "metadata": {},
   "outputs": [],
   "source": [
    "write_payloads('events/opencitations/identity', identity_relationships, chunk_size=100,\n",
    "               size=len(identity_relationships))"
   ]
  },
  {
   "cell_type": "code",
   "execution_count": 19,
   "metadata": {},
   "outputs": [
    {
     "name": "stdout",
     "output_type": "stream",
     "text": [
      "1900000\n"
     ]
    }
   ],
   "source": [
    "with open('citations.csv', 'r') as csvfile:\n",
    "    citations = list(csv.reader(csvfile, delimiter=','))\n",
    "print(len(citations))"
   ]
  },
  {
   "cell_type": "code",
   "execution_count": 20,
   "metadata": {},
   "outputs": [],
   "source": [
    "cits = []\n",
    "for idA, idB in citations:\n",
    "    idA = int(idA.split('https://w3id.org/oc/corpus/br/')[1])\n",
    "    idB = int(idB.split('https://w3id.org/oc/corpus/br/')[1])\n",
    "    if (idA in ids_grouped and ids_grouped[idA]) and (idB in ids_grouped and ids_grouped[idB]):\n",
    "        cits.append((idA, idB))"
   ]
  },
  {
   "cell_type": "code",
   "execution_count": 21,
   "metadata": {},
   "outputs": [
    {
     "data": {
      "text/plain": [
       "644657"
      ]
     },
     "execution_count": 21,
     "metadata": {},
     "output_type": "execute_result"
    }
   ],
   "source": [
    "len(cits)"
   ]
  },
  {
   "cell_type": "code",
   "execution_count": 22,
   "metadata": {},
   "outputs": [],
   "source": [
    "citation_relationships = []\n",
    "for idA, idB in cits:        \n",
    "    rel = deepcopy(CITES)\n",
    "    val1, scheme1 = list(ids_grouped[idA])[0]\n",
    "    val2, scheme2 = list(ids_grouped[idB])[0]\n",
    "    rel['Source']['Identifier'] = {\"ID\": val1, \"IDScheme\": scheme1}\n",
    "    rel['Target']['Identifier'] = {\"ID\": val2, \"IDScheme\": scheme2}\n",
    "    citation_relationships.append(rel)"
   ]
  },
  {
   "cell_type": "code",
   "execution_count": 23,
   "metadata": {},
   "outputs": [],
   "source": [
    "write_payloads('events/opencitations/cites', citation_relationships, chunk_size=100,\n",
    "               size=len(citation_relationships))"
   ]
  }
 ],
 "metadata": {
  "kernelspec": {
   "display_name": "Python 3",
   "language": "python",
   "name": "python3"
  },
  "language_info": {
   "codemirror_mode": {
    "name": "ipython",
    "version": 3
   },
   "file_extension": ".py",
   "mimetype": "text/x-python",
   "name": "python",
   "nbconvert_exporter": "python",
   "pygments_lexer": "ipython3",
   "version": "3.6.4"
  }
 },
 "nbformat": 4,
 "nbformat_minor": 2
}
