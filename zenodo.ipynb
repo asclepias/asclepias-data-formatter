{
 "cells": [
  {
   "cell_type": "code",
   "execution_count": 1,
   "metadata": {},
   "outputs": [],
   "source": [
    "from collections import Counter\n",
    "from copy import deepcopy\n",
    "import json\n",
    "import uuid\n",
    "import os\n",
    "from utils import IDENTITY, VERSION, CITES, write_payloads\n",
    "from pprint import pprint"
   ]
  },
  {
   "cell_type": "markdown",
   "metadata": {},
   "source": [
    "### Fetch the data first\n",
    "Run the ``fetch_zenodo_data.sh`` first, otherwise the next cell will not be able to open the JSON file."
   ]
  },
  {
   "cell_type": "code",
   "execution_count": 2,
   "metadata": {},
   "outputs": [
    {
     "name": "stdout",
     "output_type": "stream",
     "text": [
      "391694\n"
     ]
    }
   ],
   "source": [
    "import json\n",
    "with open(\"records-2018-04-20T15:22:08.json\", 'r') as fp:\n",
    "    records = [json.loads(line) for line in fp.readlines()]\n",
    "print(len(records))"
   ]
  },
  {
   "cell_type": "code",
   "execution_count": 3,
   "metadata": {},
   "outputs": [],
   "source": [
    "records = [r for r in records if 'doi' in r['metadata']]  # Records without DOI (~300) don't have relations"
   ]
  },
  {
   "cell_type": "code",
   "execution_count": 4,
   "metadata": {},
   "outputs": [],
   "source": [
    "ZENODO_TYPE_MAP = {\n",
    "    'dataset': 'dataset',\n",
    "    'image': 'dataset',\n",
    "    'lesson': 'literature',\n",
    "    'other': 'unknown',\n",
    "    'poster': 'literature',\n",
    "    'presentation': 'literature',\n",
    "    'publication': 'literature',\n",
    "    'software': 'software',\n",
    "    'video': 'dataset'\n",
    "}\n",
    "def zenodo_type_to_asclepias(record):\n",
    "    return ZENODO_TYPE_MAP[record['metadata']['resource_type']['type']]"
   ]
  },
  {
   "cell_type": "code",
   "execution_count": 6,
   "metadata": {},
   "outputs": [],
   "source": [
    "version_rels = []\n",
    "for r in records:\n",
    "    if 'conceptdoi' in r:\n",
    "        rel = deepcopy(VERSION)\n",
    "        rel['Source']['Identifier'] = {\"ID\": r['conceptdoi'], \"IDScheme\": 'doi'}\n",
    "        rel['Source']['Type'] = {'Name': zenodo_type_to_asclepias(r)}\n",
    "        # DOI isVersionOf ConceptDOI\n",
    "        rel['Target']['Identifier'] = {\"ID\": r['doi'], \"IDScheme\": 'doi'}\n",
    "        rel['Target']['Type'] = {'Name': zenodo_type_to_asclepias(r)}\n",
    "        version_rels.append(rel)\n",
    "write_payloads('events/zenodo/version', version_rels, size=len(version_rels))\n",
    "del version_rels"
   ]
  },
  {
   "cell_type": "code",
   "execution_count": 8,
   "metadata": {},
   "outputs": [],
   "source": [
    "identity_rels = []\n",
    "for r in records:\n",
    "    rel = deepcopy(IDENTITY)\n",
    "    rel['Source']['Identifier'] = {\"ID\": r['doi'], \"IDScheme\": 'doi'}\n",
    "    rel['Source']['Type'] = {'Name': zenodo_type_to_asclepias(r)}\n",
    "    # DOI isVersionOf ConceptDOI\n",
    "    rel['Target']['Identifier'] = {\"ID\": r['links']['html'], \"IDScheme\": 'url'}\n",
    "    rel['Target']['Type'] = {'Name': zenodo_type_to_asclepias(r)}\n",
    "    identity_rels.append(rel)\n",
    "write_payloads('events/zenodo/identity', identity_rels, size=len(identity_rels))\n",
    "del identity_rels"
   ]
  },
  {
   "cell_type": "code",
   "execution_count": 49,
   "metadata": {},
   "outputs": [],
   "source": [
    "related_rels = []\n",
    "for r in records:\n",
    "    if 'related_identifiers' in r['metadata']:\n",
    "        for ri in r['metadata']['related_identifiers']:\n",
    "            related_rels.append((r['doi'], ri['relation'], ri['identifier'], ri['scheme']))"
   ]
  },
  {
   "cell_type": "code",
   "execution_count": 182,
   "metadata": {},
   "outputs": [
    {
     "name": "stdout",
     "output_type": "stream",
     "text": [
      "128457\n",
      "391355\n",
      "1336983\n"
     ]
    }
   ],
   "source": [
    "print(len(version_rels))\n",
    "print(len(identity_rels))\n",
    "print(len(related_rels))"
   ]
  },
  {
   "cell_type": "code",
   "execution_count": 51,
   "metadata": {},
   "outputs": [
    {
     "data": {
      "text/plain": [
       "Counter({'cites': 41440,\n",
       "         'compiles': 771,\n",
       "         'documents': 179,\n",
       "         'hasPart': 465820,\n",
       "         'isCitedBy': 218930,\n",
       "         'isCompiledBy': 1383,\n",
       "         'isDocumentedBy': 836,\n",
       "         'isIdenticalTo': 6393,\n",
       "         'isNewVersionOf': 3528,\n",
       "         'isPartOf': 549031,\n",
       "         'isPreviousVersionOf': 387,\n",
       "         'isReferencedBy': 646,\n",
       "         'isSupplementTo': 37175,\n",
       "         'isSupplementedBy': 1041,\n",
       "         'isVersionOf': 5428,\n",
       "         'references': 3995})"
      ]
     },
     "execution_count": 51,
     "metadata": {},
     "output_type": "execute_result"
    }
   ],
   "source": [
    "Counter(ri[-1] for ri in related_rels)"
   ]
  },
  {
   "cell_type": "code",
   "execution_count": 168,
   "metadata": {},
   "outputs": [
    {
     "data": {
      "text/plain": [
       "Counter({'dataset': 28298,\n",
       "         'image': 180635,\n",
       "         'lesson': 520,\n",
       "         'other': 680,\n",
       "         'poster': 1787,\n",
       "         'presentation': 3864,\n",
       "         'publication': 140515,\n",
       "         'software': 34379,\n",
       "         'video': 677})"
      ]
     },
     "execution_count": 168,
     "metadata": {},
     "output_type": "execute_result"
    }
   ],
   "source": [
    "Counter(r['metadata']['resource_type']['type'] for r in records)"
   ]
  },
  {
   "cell_type": "code",
   "execution_count": 150,
   "metadata": {},
   "outputs": [
    {
     "data": {
      "text/plain": [
       "{'conceptrecid': '659578',\n",
       " 'created': '2016-11-02T07:21:21.734324+00:00',\n",
       " 'doi': '10.5281/zenodo.164231',\n",
       " 'id': 164231,\n",
       " 'links': {'badge': 'https://zenodo.org/badge/doi/10.5281/zenodo.164231.svg',\n",
       "  'bucket': 'https://zenodo.org/api/files/0869895b-ac3f-42f1-bc69-43fc85e88e5f',\n",
       "  'doi': 'https://doi.org/10.5281/zenodo.164231',\n",
       "  'html': 'https://zenodo.org/record/164231',\n",
       "  'latest': 'https://zenodo.org/api/records/164231',\n",
       "  'latest_html': 'https://zenodo.org/record/164231',\n",
       "  'thumb250': 'https://zenodo.org/api/iiif/v2/0869895b-ac3f-42f1-bc69-43fc85e88e5f:18cc2de0-d511-4f97-8e21-9c544a25debb:figure.png/full/250,/0/default.png'},\n",
       " 'metadata': {'access_right': 'open',\n",
       "  'access_right_category': 'success',\n",
       "  'communities': [{'id': 'biosyslit'}],\n",
       "  'creators': [{'name': 'Shear, William A.'}, {'name': 'Warfel, Joseph G.'}],\n",
       "  'description': 'FIGURES 58 – 63. Taracus marchingtoni. Fig. 58, female, dorsal view. Fig. 59, penis. Fig. 60, glans penis. Fig. 61, female, lateral view. Fig. 62, male, dorsal view. Fig. 63, male, lateral view.',\n",
       "  'doi': '10.5281/zenodo.164231',\n",
       "  'keywords': ['Biodiversity',\n",
       "   'Taxonomy',\n",
       "   'Animalia',\n",
       "   'Arthropoda',\n",
       "   'Insecta',\n",
       "   'Lepidoptera',\n",
       "   'Lycaenidae',\n",
       "   'Taracus'],\n",
       "  'license': {'id': 'notspecified'},\n",
       "  'publication_date': '2016-12-31',\n",
       "  'related_identifiers': [{'identifier': 'http://treatment.plazi.org/id/039D941BFFFDFFF4D6EAFE22FCC3D94A',\n",
       "    'relation': 'isCitedBy',\n",
       "    'scheme': 'url'},\n",
       "   {'identifier': '10.11646/zootaxa.4180.1.1',\n",
       "    'relation': 'isPartOf',\n",
       "    'scheme': 'doi'},\n",
       "   {'identifier': 'urn:lsid:plazi.org:pub:FFA4EC63FFDEFFD3D67DFFF3FFA0DB52',\n",
       "    'relation': 'isPartOf',\n",
       "    'scheme': 'lsid'},\n",
       "   {'identifier': 'http://treatment.plazi.org/id/039D941BFFFDFFF4D6EAFE22FCC3D94A',\n",
       "    'relation': 'isCitedBy',\n",
       "    'scheme': 'url'},\n",
       "   {'identifier': '10.11646/zootaxa.4180.1.1',\n",
       "    'relation': 'isPartOf',\n",
       "    'scheme': 'doi'},\n",
       "   {'identifier': 'urn:lsid:plazi.org:pub:FFA4EC63FFDEFFD3D67DFFF3FFA0DB52',\n",
       "    'relation': 'isPartOf',\n",
       "    'scheme': 'lsid'}],\n",
       "  'relations': {'version': [{'count': 1,\n",
       "     'index': 0,\n",
       "     'is_last': True,\n",
       "     'last_child': {'pid_type': 'recid', 'pid_value': '164231'},\n",
       "     'parent': {'pid_type': 'recid', 'pid_value': '659578'}}]},\n",
       "  'resource_type': {'subtype': 'figure', 'title': 'Figure', 'type': 'image'},\n",
       "  'title': 'FIGURES 58 – 63. Taracus marchingtoni. Fig. 58 in The harvestman genus Taracus Simon 1879, and the new genus Oskoron (Opiliones: Ischyropsalidoidea: Taracidae)'},\n",
       " 'owners': [1161],\n",
       " 'revision': 0,\n",
       " 'updated': '2017-05-30T03:54:31.539951+00:00'}"
      ]
     },
     "execution_count": 150,
     "metadata": {},
     "output_type": "execute_result"
    }
   ],
   "source": [
    "records[0]"
   ]
  }
 ],
 "metadata": {
  "kernelspec": {
   "display_name": "Python 3",
   "language": "python",
   "name": "python3"
  },
  "language_info": {
   "codemirror_mode": {
    "name": "ipython",
    "version": 3
   },
   "file_extension": ".py",
   "mimetype": "text/x-python",
   "name": "python",
   "nbconvert_exporter": "python",
   "pygments_lexer": "ipython3",
   "version": "3.6.4"
  }
 },
 "nbformat": 4,
 "nbformat_minor": 2
}
