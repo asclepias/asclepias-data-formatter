{
 "cells": [
  {
   "cell_type": "code",
   "execution_count": null,
   "metadata": {},
   "outputs": [],
   "source": [
    "from collections import Counter\n",
    "from copy import deepcopy\n",
    "import json\n",
    "import uuid\n",
    "import os\n",
    "from utils import IDENTITY, VERSION, CITES, write_payloads\n",
    "from pprint import pprint"
   ]
  },
  {
   "cell_type": "markdown",
   "metadata": {},
   "source": [
    "### Fetch the data first\n",
    "Run the ``prepare_data.sh`` first, otherwise the next cell will not be able to open the JSON file."
   ]
  },
  {
   "cell_type": "code",
   "execution_count": null,
   "metadata": {},
   "outputs": [],
   "source": [
    "import json\n",
    "with open(\"records-2018-04-20T15:22:08.json\", 'r') as fp:\n",
    "    records = [json.loads(line) for line in fp.readlines()]\n",
    "print(len(records))"
   ]
  },
  {
   "cell_type": "code",
   "execution_count": null,
   "metadata": {},
   "outputs": [],
   "source": [
    "records = [r for r in records if 'doi' in r['metadata']]  # Records without DOI (~300) don't have relations"
   ]
  },
  {
   "cell_type": "code",
   "execution_count": null,
   "metadata": {},
   "outputs": [],
   "source": [
    "ZENODO_TYPE_MAP = {\n",
    "    'dataset': 'dataset',\n",
    "    'image': 'dataset',\n",
    "    'lesson': 'literature',\n",
    "    'other': 'unknown',\n",
    "    'poster': 'literature',\n",
    "    'presentation': 'literature',\n",
    "    'publication': 'literature',\n",
    "    'software': 'software',\n",
    "    'video': 'dataset'\n",
    "}\n",
    "def zenodo_type_to_asclepias(record):\n",
    "    return ZENODO_TYPE_MAP[record['metadata']['resource_type']['type']]"
   ]
  },
  {
   "cell_type": "code",
   "execution_count": null,
   "metadata": {},
   "outputs": [],
   "source": [
    "version_rels = []\n",
    "for r in records:\n",
    "    if 'conceptdoi' in r:\n",
    "        rel = deepcopy(VERSION)\n",
    "        rel['Source']['Identifier'] = {\"ID\": r['conceptdoi'], \"IDScheme\": 'doi'}\n",
    "        rel['Source']['Type'] = {'Name': zenodo_type_to_asclepias(r)}\n",
    "        # DOI isVersionOf ConceptDOI\n",
    "        rel['Target']['Identifier'] = {\"ID\": r['doi'], \"IDScheme\": 'doi'}\n",
    "        rel['Target']['Type'] = {'Name': zenodo_type_to_asclepias(r)}\n",
    "        version_rels.append(rel)\n",
    "write_payloads('events/zenodo/version', version_rels, size=len(version_rels))\n",
    "del version_rels"
   ]
  },
  {
   "cell_type": "code",
   "execution_count": null,
   "metadata": {},
   "outputs": [],
   "source": [
    "identity_rels = []\n",
    "for r in records:\n",
    "    rel = deepcopy(IDENTITY)\n",
    "    rel['Source']['Identifier'] = {\"ID\": r['doi'], \"IDScheme\": 'doi'}\n",
    "    rel['Source']['Type'] = {'Name': zenodo_type_to_asclepias(r)}\n",
    "    # DOI isVersionOf ConceptDOI\n",
    "    rel['Target']['Identifier'] = {\"ID\": r['links']['html'], \"IDScheme\": 'url'}\n",
    "    rel['Target']['Type'] = {'Name': zenodo_type_to_asclepias(r)}\n",
    "    identity_rels.append(rel)\n",
    "write_payloads('events/zenodo/identity', identity_rels, size=len(identity_rels))\n",
    "del identity_rels"
   ]
  },
  {
   "cell_type": "code",
   "execution_count": null,
   "metadata": {},
   "outputs": [],
   "source": [
    "related_rels = []\n",
    "for r in records:\n",
    "    if 'related_identifiers' in r['metadata']:\n",
    "        for ri in r['metadata']['related_identifiers']:\n",
    "            related_rels.append((r['doi'], ri['relation'], ri['identifier'], ri['scheme']))"
   ]
  },
  {
   "cell_type": "code",
   "execution_count": null,
   "metadata": {},
   "outputs": [],
   "source": [
    "print(len(version_rels))\n",
    "print(len(identity_rels))\n",
    "print(len(related_rels))"
   ]
  },
  {
   "cell_type": "code",
   "execution_count": null,
   "metadata": {},
   "outputs": [],
   "source": [
    "Counter(ri[-1] for ri in related_rels)"
   ]
  },
  {
   "cell_type": "code",
   "execution_count": null,
   "metadata": {},
   "outputs": [],
   "source": [
    "Counter(r['metadata']['resource_type']['type'] for r in records)"
   ]
  },
  {
   "cell_type": "code",
   "execution_count": null,
   "metadata": {},
   "outputs": [],
   "source": [
    "records[0]"
   ]
  }
 ],
 "metadata": {
  "kernelspec": {
   "display_name": "Python 3",
   "language": "python",
   "name": "python3"
  },
  "language_info": {
   "codemirror_mode": {
    "name": "ipython",
    "version": 3
   },
   "file_extension": ".py",
   "mimetype": "text/x-python",
   "name": "python",
   "nbconvert_exporter": "python",
   "pygments_lexer": "ipython3",
   "version": "3.6.4"
  }
 },
 "nbformat": 4,
 "nbformat_minor": 2
}
