{
 "cells": [
  {
   "cell_type": "code",
   "execution_count": 1,
   "metadata": {},
   "outputs": [],
   "source": [
    "from copy import deepcopy\n",
    "from collections import Counter"
   ]
  },
  {
   "cell_type": "code",
   "execution_count": 2,
   "metadata": {
    "scrolled": true
   },
   "outputs": [
    {
     "name": "stdout",
     "output_type": "stream",
     "text": [
      "204\n"
     ]
    }
   ],
   "source": [
    "import csv\n",
    "with open('TriangleCornerCitations.csv', 'r') as csvfile:\n",
    "    citations = list(csv.reader(csvfile, delimiter=','))[1:]\n",
    "print(len(citations))"
   ]
  },
  {
   "cell_type": "code",
   "execution_count": 4,
   "metadata": {},
   "outputs": [
    {
     "data": {
      "text/plain": [
       "{'10.21105/joss.00024',\n",
       " '10.5281/zenodo.10598',\n",
       " '10.5281/zenodo.11020',\n",
       " '10.5281/zenodo.45906',\n",
       " '10.5281/zenodo.53155',\n",
       " '2017ascl.soft02002F'}"
      ]
     },
     "execution_count": 4,
     "metadata": {},
     "output_type": "execute_result"
    }
   ],
   "source": [
    "set([c[1] for c in citations])  # Identifiers for corner/triangle (extra: can also use \"ascl: 1702.002\")"
   ]
  },
  {
   "cell_type": "code",
   "execution_count": 5,
   "metadata": {},
   "outputs": [],
   "source": [
    "all_ids = sum([[c[0], c[1]] for c in citations], [])"
   ]
  },
  {
   "cell_type": "code",
   "execution_count": 6,
   "metadata": {},
   "outputs": [],
   "source": [
    "concept = '10.5281/zenodo.591491'  # Concept DOI\n",
    "identities = [\n",
    "    (('2017ascl.soft02002F', 'ads'), ('10.21105/joss.00024','doi')),\n",
    "]\n",
    "version = [\n",
    "    # NOTE: Assuming the paper to be a \"IsVersionOf\" ConceptDOI\n",
    "    (concept, '10.21105/joss.00024'),\n",
    "    # New version release\n",
    "    (concept, '10.5281/zenodo.53155'),\n",
    "    (concept, '10.5281/zenodo.45906'),\n",
    "    # Old two records on Zenodo (Triangle.py)\n",
    "    (concept, '10.5281/zenodo.10598'),\n",
    "    (concept, '10.5281/zenodo.11020'),\n",
    "]"
   ]
  },
  {
   "cell_type": "code",
   "execution_count": 7,
   "metadata": {},
   "outputs": [],
   "source": [
    "from utils import IDENTITY, VERSION, CITES, write_payloads"
   ]
  },
  {
   "cell_type": "code",
   "execution_count": 8,
   "metadata": {},
   "outputs": [],
   "source": [
    "id_events = []\n",
    "for src, tar in identities:\n",
    "    rel = deepcopy(IDENTITY)\n",
    "    rel['LinkPublicationDate'] = '2018-01-01'\n",
    "    rel['Source']['Identifier']['ID'] = src[0]\n",
    "    rel['Source']['Identifier']['IDScheme'] = src[1]\n",
    "    rel['Target']['Identifier']['ID'] = tar[0]\n",
    "    rel['Target']['Identifier']['IDScheme'] = tar[1]\n",
    "    id_events.append(rel)"
   ]
  },
  {
   "cell_type": "code",
   "execution_count": 9,
   "metadata": {},
   "outputs": [],
   "source": [
    "version_events = []\n",
    "for src, tar in version:\n",
    "    rel = deepcopy(VERSION)\n",
    "    rel['LinkPublicationDate'] = '2018-01-01'\n",
    "    rel['Source']['Identifier']['ID'] = src\n",
    "    rel['Source']['Identifier']['IDScheme'] = 'doi'\n",
    "    rel['Target']['Identifier']['ID'] = tar\n",
    "    rel['Target']['Identifier']['IDScheme'] = 'doi'\n",
    "    version_events.append(rel)"
   ]
  },
  {
   "cell_type": "code",
   "execution_count": 10,
   "metadata": {},
   "outputs": [],
   "source": [
    "def expand_cit(c):\n",
    "    def get_scheme(id_):\n",
    "        return 'doi' if id_.startswith('10') else 'ads'\n",
    "    src = c[0]\n",
    "    src_scheme = get_scheme(src)\n",
    "    tar = c[1]\n",
    "    tar_scheme = get_scheme(tar)\n",
    "    month, year = c[3].split('/')\n",
    "    date = '{year}-{month}-01'.format(year=year, month=month)\n",
    "    rel = deepcopy(CITES)\n",
    "    rel['LinkPublicationDate'] = date\n",
    "    rel['Source']['Identifier'] = {'ID': src, 'IDScheme': src_scheme}\n",
    "    rel['Target']['Identifier'] = {'ID': tar, 'IDScheme': tar_scheme}\n",
    "    rel['LinkProvider'] = [{'Name': 'SAO/NASA Astrophysics Data System'}]\n",
    "    return rel    "
   ]
  },
  {
   "cell_type": "code",
   "execution_count": 12,
   "metadata": {},
   "outputs": [],
   "source": [
    "citation_events = list(map(expand_cit, citations))"
   ]
  },
  {
   "cell_type": "code",
   "execution_count": 14,
   "metadata": {},
   "outputs": [],
   "source": [
    "events = id_events + version_events + citation_events\n",
    "write_payloads('events/cornerpy', events, chunk_size=100)"
   ]
  }
 ],
 "metadata": {
  "kernelspec": {
   "display_name": "Classifier",
   "language": "python",
   "name": "classifier"
  },
  "language_info": {
   "codemirror_mode": {
    "name": "ipython",
    "version": 3
   },
   "file_extension": ".py",
   "mimetype": "text/x-python",
   "name": "python",
   "nbconvert_exporter": "python",
   "pygments_lexer": "ipython3",
   "version": "3.5.2"
  }
 },
 "nbformat": 4,
 "nbformat_minor": 2
}
